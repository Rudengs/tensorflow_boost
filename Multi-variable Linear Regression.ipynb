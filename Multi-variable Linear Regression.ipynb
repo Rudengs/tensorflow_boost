{
 "cells": [
  {
   "cell_type": "code",
   "execution_count": 6,
   "metadata": {},
   "outputs": [
    {
     "name": "stdout",
     "output_type": "stream",
     "text": [
      "    0 | 25102.9062\n",
      "  100 |    10.1535\n",
      "  200 |     7.0367\n",
      "  300 |     7.0093\n",
      "  400 |     6.9823\n",
      "  500 |     6.9556\n",
      "  600 |     6.9289\n",
      "  700 |     6.9025\n",
      "  800 |     6.8760\n",
      "  900 |     6.8498\n",
      " 1000 |     6.8237\n",
      " 1100 |     6.7978\n",
      " 1200 |     6.7720\n",
      " 1300 |     6.7464\n",
      " 1400 |     6.7208\n",
      " 1500 |     6.6954\n",
      " 1600 |     6.6702\n",
      " 1700 |     6.6450\n",
      " 1800 |     6.6200\n",
      " 1900 |     6.5952\n",
      " 2000 |     6.5704\n"
     ]
    }
   ],
   "source": [
    "import tensorflow as tf\n",
    "import numpy as np\n",
    "\n",
    "# x1 = [73., 93., 89., 96., 73.,]\n",
    "# x2 = [80., 88., 91., 98., 66.,]\n",
    "# x3 = [75., 93., 90., 100., 70.,]\n",
    "# Y = [152., 185., 180., 196., 142.,]\n",
    "data = np.array([\n",
    "    [73., 80., 75., 152.],\n",
    "    [93., 88., 93., 185.],\n",
    "    [89., 91., 90., 180.],\n",
    "    [96., 98., 100., 196.],\n",
    "    [73., 66., 70., 142.]\n",
    "], dtype=np.float32)\n",
    "\n",
    "X = data[:, :-1]\n",
    "Y = data[:, [-1]]\n",
    "\n",
    "# w1 = tf.Variable(tf.random.normal([1]))\n",
    "# w2 = tf.Variable(tf.random.normal([1]))\n",
    "# w3 = tf.Variable(tf.random.normal([1]))\n",
    "# b = tf.Variable(tf.random.normal([1]))\n",
    "\n",
    "W = tf.Variable(tf.random.normal([3, 1]))\n",
    "b = tf.Variable(tf.random.normal([1]))\n",
    "\n",
    "def predict(X):\n",
    "    return tf.matmul(X, W) + b\n",
    "\n",
    "learning_rate = 0.000001\n",
    "\n",
    "n_epochs = 2000\n",
    "\n",
    "for i in range(n_epochs+1):\n",
    "    with tf.GradientTape() as tape:\n",
    "        # hypothesis = w1*x1 + w2*x2 + w3*x3 + b\n",
    "        cost = tf.reduce_mean(tf.square(predict(X) - Y))\n",
    "\n",
    "    #w1_grad, w2_grad, w3_grad, b_grad = tape.gradient(cost, [w1,w2,w2,b])\n",
    "    W_grad, b_grad = tape.gradient(cost, [W, b])\n",
    "    \n",
    "    # w1.assign_sub(learning_rate * w1_grad)\n",
    "    # w2.assign_sub(learning_rate * w2_grad)\n",
    "    # w3.assign_sub(learning_rate * w3_grad)\n",
    "    # b.assign_sub(learning_rate * b_grad)\n",
    "    W.assign_sub(learning_rate * W_grad)\n",
    "    b.assign_sub(learning_rate * b_grad)\n",
    "    \n",
    "    if i % 100 == 0:\n",
    "        print(\"{:5} | {:10.4f}\".format(i, cost.numpy()))"
   ]
  },
  {
   "cell_type": "code",
   "execution_count": null,
   "metadata": {},
   "outputs": [],
   "source": []
  }
 ],
 "metadata": {
  "kernelspec": {
   "display_name": "Python 3",
   "language": "python",
   "name": "python3"
  },
  "language_info": {
   "codemirror_mode": {
    "name": "ipython",
    "version": 3
   },
   "file_extension": ".py",
   "mimetype": "text/x-python",
   "name": "python",
   "nbconvert_exporter": "python",
   "pygments_lexer": "ipython3",
   "version": "3.7.5"
  }
 },
 "nbformat": 4,
 "nbformat_minor": 2
}
