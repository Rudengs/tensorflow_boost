{
 "cells": [
  {
   "cell_type": "code",
   "execution_count": 2,
   "metadata": {},
   "outputs": [],
   "source": [
    "x_train = [\n",
    "    [1., 2.],\n",
    "    [2., 3.],\n",
    "    [3., 1.],\n",
    "    [4., 3.],\n",
    "    [5., 3.],\n",
    "    [6., 2.]\n",
    "]\n",
    "\n",
    "y_train = [\n",
    "    [0.],\n",
    "    [0.],\n",
    "    [0.],\n",
    "    [1.],\n",
    "    [1.],\n",
    "    [1.],\n",
    "]\n",
    "\n",
    "x_test = [[5., 2.]]\n",
    "y_test = [[1,]]"
   ]
  },
  {
   "cell_type": "code",
   "execution_count": 5,
   "metadata": {},
   "outputs": [],
   "source": [
    "import tensorflow as tf\n",
    "\n",
    "dataset = tf.data.Dataset.from_tensor_slices((x_train, y_train)).batch(len(x_train))\n",
    "W = tf.Variable(tf.zeros([2,1]), name='weight')\n",
    "b = tf.Variable(tf.zeros([1]), name='bias')\n",
    "\n",
    "def logistic_regr"
   ]
  }
 ],
 "metadata": {
  "kernelspec": {
   "display_name": "Python 3",
   "language": "python",
   "name": "python3"
  },
  "language_info": {
   "codemirror_mode": {
    "name": "ipython",
    "version": 3
   },
   "file_extension": ".py",
   "mimetype": "text/x-python",
   "name": "python",
   "nbconvert_exporter": "python",
   "pygments_lexer": "ipython3",
   "version": "3.6.9"
  }
 },
 "nbformat": 4,
 "nbformat_minor": 2
}
